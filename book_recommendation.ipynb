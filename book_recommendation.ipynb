{
 "cells": [
  {
   "cell_type": "code",
   "execution_count": 1,
   "metadata": {},
   "outputs": [],
   "source": [
    "import pandas as pd\n",
    "import re\n",
    "import gradio as gr\n",
    "import nltk\n",
    "from nltk.corpus import stopwords\n",
    "from sklearn.feature_extraction.text import TfidfVectorizer\n",
    "from vaderSentiment.vaderSentiment import SentimentIntensityAnalyzer\n",
    "from sklearn.metrics.pairwise import cosine_similarity"
   ]
  },
  {
   "cell_type": "code",
   "execution_count": 2,
   "metadata": {},
   "outputs": [
    {
     "name": "stdout",
     "output_type": "stream",
     "text": [
      "Index(['title', 'titleComplete', 'description', 'genres', 'isbn', 'publisher',\n",
      "       'author', 'characters', 'places', 'ratingHistogram', 'ratingsCount',\n",
      "       'reviewsCount', 'numPages', 'language'],\n",
      "      dtype='object')\n",
      "Index(['Id', 'Title', 'Price', 'User_id', 'profileName', 'review/helpfulness',\n",
      "       'review/score', 'review/time', 'review/summary', 'review/text'],\n",
      "      dtype='object')\n"
     ]
    }
   ],
   "source": [
    "# Import books and reviews dataset\n",
    "books = pd.read_csv('Resources/goodreads_dataset.csv')\n",
    "print(books.columns)\n",
    "reviews = pd.read_csv('Resources/book_reviews.csv')\n",
    "print(reviews.columns)"
   ]
  },
  {
   "cell_type": "code",
   "execution_count": 3,
   "metadata": {},
   "outputs": [
    {
     "data": {
      "text/html": [
       "<div>\n",
       "<style scoped>\n",
       "    .dataframe tbody tr th:only-of-type {\n",
       "        vertical-align: middle;\n",
       "    }\n",
       "\n",
       "    .dataframe tbody tr th {\n",
       "        vertical-align: top;\n",
       "    }\n",
       "\n",
       "    .dataframe thead th {\n",
       "        text-align: right;\n",
       "    }\n",
       "</style>\n",
       "<table border=\"1\" class=\"dataframe\">\n",
       "  <thead>\n",
       "    <tr style=\"text-align: right;\">\n",
       "      <th></th>\n",
       "      <th>review/score</th>\n",
       "      <th>review/text</th>\n",
       "      <th>isbn</th>\n",
       "      <th>description</th>\n",
       "      <th>genres</th>\n",
       "      <th>author</th>\n",
       "      <th>title</th>\n",
       "    </tr>\n",
       "  </thead>\n",
       "  <tbody>\n",
       "    <tr>\n",
       "      <th>0</th>\n",
       "      <td>5.0</td>\n",
       "      <td>This is 1 of da bst books dat i have EVER read...</td>\n",
       "      <td>0671551345</td>\n",
       "      <td>Three sisters, teenage vampires, attempt to es...</td>\n",
       "      <td>['Paranormal Romance', 'Witches', 'Romance', '...</td>\n",
       "      <td>['L.J. Smith']</td>\n",
       "      <td>Daughters of Darkness</td>\n",
       "    </tr>\n",
       "    <tr>\n",
       "      <th>1</th>\n",
       "      <td>5.0</td>\n",
       "      <td>This is 1 of da bst books dat i have EVER read...</td>\n",
       "      <td>0671551345</td>\n",
       "      <td>Three sisters, teenage vampires, attempt to es...</td>\n",
       "      <td>['Vampires', 'Supernatural', 'Young Adult', 'U...</td>\n",
       "      <td>['L.J. Smith']</td>\n",
       "      <td>Daughters of Darkness</td>\n",
       "    </tr>\n",
       "    <tr>\n",
       "      <th>2</th>\n",
       "      <td>5.0</td>\n",
       "      <td>first of all i thought that this was one of lj...</td>\n",
       "      <td>0671551345</td>\n",
       "      <td>Three sisters, teenage vampires, attempt to es...</td>\n",
       "      <td>['Paranormal Romance', 'Witches', 'Romance', '...</td>\n",
       "      <td>['L.J. Smith']</td>\n",
       "      <td>Daughters of Darkness</td>\n",
       "    </tr>\n",
       "    <tr>\n",
       "      <th>3</th>\n",
       "      <td>5.0</td>\n",
       "      <td>first of all i thought that this was one of lj...</td>\n",
       "      <td>0671551345</td>\n",
       "      <td>Three sisters, teenage vampires, attempt to es...</td>\n",
       "      <td>['Vampires', 'Supernatural', 'Young Adult', 'U...</td>\n",
       "      <td>['L.J. Smith']</td>\n",
       "      <td>Daughters of Darkness</td>\n",
       "    </tr>\n",
       "    <tr>\n",
       "      <th>4</th>\n",
       "      <td>3.0</td>\n",
       "      <td>Once started I couldn't put it down, literally...</td>\n",
       "      <td>0671551345</td>\n",
       "      <td>Three sisters, teenage vampires, attempt to es...</td>\n",
       "      <td>['Paranormal Romance', 'Witches', 'Romance', '...</td>\n",
       "      <td>['L.J. Smith']</td>\n",
       "      <td>Daughters of Darkness</td>\n",
       "    </tr>\n",
       "  </tbody>\n",
       "</table>\n",
       "</div>"
      ],
      "text/plain": [
       "   review/score                                        review/text  \\\n",
       "0           5.0  This is 1 of da bst books dat i have EVER read...   \n",
       "1           5.0  This is 1 of da bst books dat i have EVER read...   \n",
       "2           5.0  first of all i thought that this was one of lj...   \n",
       "3           5.0  first of all i thought that this was one of lj...   \n",
       "4           3.0  Once started I couldn't put it down, literally...   \n",
       "\n",
       "         isbn                                        description  \\\n",
       "0  0671551345  Three sisters, teenage vampires, attempt to es...   \n",
       "1  0671551345  Three sisters, teenage vampires, attempt to es...   \n",
       "2  0671551345  Three sisters, teenage vampires, attempt to es...   \n",
       "3  0671551345  Three sisters, teenage vampires, attempt to es...   \n",
       "4  0671551345  Three sisters, teenage vampires, attempt to es...   \n",
       "\n",
       "                                              genres          author  \\\n",
       "0  ['Paranormal Romance', 'Witches', 'Romance', '...  ['L.J. Smith']   \n",
       "1  ['Vampires', 'Supernatural', 'Young Adult', 'U...  ['L.J. Smith']   \n",
       "2  ['Paranormal Romance', 'Witches', 'Romance', '...  ['L.J. Smith']   \n",
       "3  ['Vampires', 'Supernatural', 'Young Adult', 'U...  ['L.J. Smith']   \n",
       "4  ['Paranormal Romance', 'Witches', 'Romance', '...  ['L.J. Smith']   \n",
       "\n",
       "                   title  \n",
       "0  Daughters of Darkness  \n",
       "1  Daughters of Darkness  \n",
       "2  Daughters of Darkness  \n",
       "3  Daughters of Darkness  \n",
       "4  Daughters of Darkness  "
      ]
     },
     "execution_count": 3,
     "metadata": {},
     "output_type": "execute_result"
    }
   ],
   "source": [
    "# Only select columns that will be used\n",
    "books = books[['isbn','description','genres','author','title']]\n",
    "reviews = reviews[['Id','review/score','review/text']]\n",
    "# Merge the datasets\n",
    "merged_df = pd.merge(reviews, books, left_on='Id', right_on='isbn')\n",
    "merged_df = merged_df.drop(columns=['Id'])\n",
    "merged_df.head()"
   ]
  },
  {
   "cell_type": "code",
   "execution_count": 4,
   "metadata": {},
   "outputs": [],
   "source": [
    "# Create function to clean strings that look like lists\n",
    "def clean_list(list):\n",
    "    return ', '.join(list.strip('[]').replace(\"'\", \"\").split(\", \"))"
   ]
  },
  {
   "cell_type": "code",
   "execution_count": 5,
   "metadata": {},
   "outputs": [
    {
     "data": {
      "text/html": [
       "<div>\n",
       "<style scoped>\n",
       "    .dataframe tbody tr th:only-of-type {\n",
       "        vertical-align: middle;\n",
       "    }\n",
       "\n",
       "    .dataframe tbody tr th {\n",
       "        vertical-align: top;\n",
       "    }\n",
       "\n",
       "    .dataframe thead th {\n",
       "        text-align: right;\n",
       "    }\n",
       "</style>\n",
       "<table border=\"1\" class=\"dataframe\">\n",
       "  <thead>\n",
       "    <tr style=\"text-align: right;\">\n",
       "      <th></th>\n",
       "      <th>review/score</th>\n",
       "      <th>review/text</th>\n",
       "      <th>isbn</th>\n",
       "      <th>description</th>\n",
       "      <th>genres</th>\n",
       "      <th>author</th>\n",
       "      <th>title</th>\n",
       "    </tr>\n",
       "  </thead>\n",
       "  <tbody>\n",
       "    <tr>\n",
       "      <th>0</th>\n",
       "      <td>5.0</td>\n",
       "      <td>This is 1 of da bst books dat i have EVER read...</td>\n",
       "      <td>0671551345</td>\n",
       "      <td>Three sisters, teenage vampires, attempt to es...</td>\n",
       "      <td>Paranormal Romance, Witches, Romance, Fiction,...</td>\n",
       "      <td>L.J. Smith</td>\n",
       "      <td>Daughters of Darkness</td>\n",
       "    </tr>\n",
       "    <tr>\n",
       "      <th>1</th>\n",
       "      <td>5.0</td>\n",
       "      <td>This is 1 of da bst books dat i have EVER read...</td>\n",
       "      <td>0671551345</td>\n",
       "      <td>Three sisters, teenage vampires, attempt to es...</td>\n",
       "      <td>Vampires, Supernatural, Young Adult, Urban Fan...</td>\n",
       "      <td>L.J. Smith</td>\n",
       "      <td>Daughters of Darkness</td>\n",
       "    </tr>\n",
       "    <tr>\n",
       "      <th>2</th>\n",
       "      <td>5.0</td>\n",
       "      <td>first of all i thought that this was one of lj...</td>\n",
       "      <td>0671551345</td>\n",
       "      <td>Three sisters, teenage vampires, attempt to es...</td>\n",
       "      <td>Paranormal Romance, Witches, Romance, Fiction,...</td>\n",
       "      <td>L.J. Smith</td>\n",
       "      <td>Daughters of Darkness</td>\n",
       "    </tr>\n",
       "    <tr>\n",
       "      <th>3</th>\n",
       "      <td>5.0</td>\n",
       "      <td>first of all i thought that this was one of lj...</td>\n",
       "      <td>0671551345</td>\n",
       "      <td>Three sisters, teenage vampires, attempt to es...</td>\n",
       "      <td>Vampires, Supernatural, Young Adult, Urban Fan...</td>\n",
       "      <td>L.J. Smith</td>\n",
       "      <td>Daughters of Darkness</td>\n",
       "    </tr>\n",
       "    <tr>\n",
       "      <th>4</th>\n",
       "      <td>3.0</td>\n",
       "      <td>Once started I couldn't put it down, literally...</td>\n",
       "      <td>0671551345</td>\n",
       "      <td>Three sisters, teenage vampires, attempt to es...</td>\n",
       "      <td>Paranormal Romance, Witches, Romance, Fiction,...</td>\n",
       "      <td>L.J. Smith</td>\n",
       "      <td>Daughters of Darkness</td>\n",
       "    </tr>\n",
       "  </tbody>\n",
       "</table>\n",
       "</div>"
      ],
      "text/plain": [
       "   review/score                                        review/text  \\\n",
       "0           5.0  This is 1 of da bst books dat i have EVER read...   \n",
       "1           5.0  This is 1 of da bst books dat i have EVER read...   \n",
       "2           5.0  first of all i thought that this was one of lj...   \n",
       "3           5.0  first of all i thought that this was one of lj...   \n",
       "4           3.0  Once started I couldn't put it down, literally...   \n",
       "\n",
       "         isbn                                        description  \\\n",
       "0  0671551345  Three sisters, teenage vampires, attempt to es...   \n",
       "1  0671551345  Three sisters, teenage vampires, attempt to es...   \n",
       "2  0671551345  Three sisters, teenage vampires, attempt to es...   \n",
       "3  0671551345  Three sisters, teenage vampires, attempt to es...   \n",
       "4  0671551345  Three sisters, teenage vampires, attempt to es...   \n",
       "\n",
       "                                              genres      author  \\\n",
       "0  Paranormal Romance, Witches, Romance, Fiction,...  L.J. Smith   \n",
       "1  Vampires, Supernatural, Young Adult, Urban Fan...  L.J. Smith   \n",
       "2  Paranormal Romance, Witches, Romance, Fiction,...  L.J. Smith   \n",
       "3  Vampires, Supernatural, Young Adult, Urban Fan...  L.J. Smith   \n",
       "4  Paranormal Romance, Witches, Romance, Fiction,...  L.J. Smith   \n",
       "\n",
       "                   title  \n",
       "0  Daughters of Darkness  \n",
       "1  Daughters of Darkness  \n",
       "2  Daughters of Darkness  \n",
       "3  Daughters of Darkness  \n",
       "4  Daughters of Darkness  "
      ]
     },
     "execution_count": 5,
     "metadata": {},
     "output_type": "execute_result"
    }
   ],
   "source": [
    "# Convert list values into string values\n",
    "merged_df['genres'] = merged_df['genres'].apply(clean_list)\n",
    "merged_df['author'] = merged_df['author'].apply(clean_list)\n",
    "merged_df.head()"
   ]
  },
  {
   "cell_type": "code",
   "execution_count": 6,
   "metadata": {},
   "outputs": [],
   "source": [
    "# Combine all text information about book into a new column\n",
    "merged_df['book_info'] = merged_df['review/text'] + ' ' + merged_df['description'] + ' ' + merged_df['genres']"
   ]
  },
  {
   "cell_type": "code",
   "execution_count": 7,
   "metadata": {},
   "outputs": [
    {
     "name": "stderr",
     "output_type": "stream",
     "text": [
      "[nltk_data] Downloading package stopwords to /Users/syyun/nltk_data...\n",
      "[nltk_data]   Package stopwords is already up-to-date!\n"
     ]
    }
   ],
   "source": [
    "nltk.download('stopwords')\n",
    "stop_words = set(stopwords.words('english'))\n",
    "\n",
    "# Create a function to clean the long texts in the datasets\n",
    "def clean_func(txt):\n",
    "    # Clean the texts by removing punctuations and changing to lowercase\n",
    "    txt = txt.lower()\n",
    "    txt = re.sub(r'[^a-z\\s]', '', txt)\n",
    "    # Tokenize the text and remove stopwords\n",
    "    txt_tokenized = txt.split()\n",
    "    txt_tokenized = [word for word in txt_tokenized if word not in stop_words]\n",
    "    result = ' '.join(txt_tokenized)\n",
    "    return result"
   ]
  },
  {
   "cell_type": "code",
   "execution_count": 8,
   "metadata": {},
   "outputs": [],
   "source": [
    "# Apply clean_func to the book_info column to cleanup\n",
    "merged_df['book_info'] = merged_df['book_info'].apply(clean_func)"
   ]
  },
  {
   "cell_type": "code",
   "execution_count": 9,
   "metadata": {},
   "outputs": [],
   "source": [
    "analyzer = SentimentIntensityAnalyzer()\n",
    "# Create a function that analyzes the sentiment of reviews\n",
    "def analyze_review(review):\n",
    "    sent = analyzer.polarity_scores(review)\n",
    "    return sent['compound']"
   ]
  },
  {
   "cell_type": "code",
   "execution_count": 10,
   "metadata": {},
   "outputs": [],
   "source": [
    "# Create a function to recommend books\n",
    "def recommend_book(title, review):\n",
    "    # Clean the user's input review\n",
    "    user_review = clean_func(review)\n",
    "    # Get the sentiment score of user's review\n",
    "    user_sentiment = analyze_review(user_review)\n",
    "    # Use the sentiment score to filter out ratings score\n",
    "    if user_sentiment >= 0:\n",
    "        filtered_df = merged_df[merged_df['review/score'] >= 4]\n",
    "    else:\n",
    "        filtered_df = merged_df[merged_df['review/score'] < 4]\n",
    "\n",
    "    # Vectorize the data and user review\n",
    "    vectorizer = TfidfVectorizer(stop_words=\"english\")\n",
    "    tf_books = vectorizer.fit_transform(filtered_df['book_info'])\n",
    "    tf_user = vectorizer.transform([user_review])\n",
    "\n",
    "    # Calculate cosine similarity\n",
    "    similarity = cosine_similarity(tf_user, tf_books)\n",
    "    # Get the indices of top 5 similarity books\n",
    "    top_idx = similarity[0].argsort()[-5:][::-1]\n",
    "    # Select the books from dataset\n",
    "    top_books = merged_df.iloc[top_idx]\n",
    "\n",
    "    # Create a string of recommendations\n",
    "    recommendations = \"\"\n",
    "    check_list = []\n",
    "    for _, row in top_books.iterrows():\n",
    "        if row['title'] not in check_list:\n",
    "            check_list.append(row['title'])\n",
    "            recommendations += f\"[{row['title']}] by {row['author']}\\n\"\n",
    "    \n",
    "    return recommendations"
   ]
  },
  {
   "cell_type": "code",
   "execution_count": 11,
   "metadata": {},
   "outputs": [],
   "source": [
    "instruction = \"\"\"\n",
    "    <h1>Book Recommendations</h1>\n",
    "    <p>What book did you read recently?</p>\n",
    "    <p>Enter the title and write a brief review of the book.</p>\n",
    "    <p>Click 'Submit' to get new book recommendations!</p>\n",
    "    <br/>\n",
    "\"\"\""
   ]
  },
  {
   "cell_type": "code",
   "execution_count": 12,
   "metadata": {},
   "outputs": [
    {
     "name": "stdout",
     "output_type": "stream",
     "text": [
      "* Running on local URL:  http://127.0.0.1:7860\n",
      "* Running on public URL: https://72ad14a1afb77ead2c.gradio.live\n",
      "\n",
      "This share link expires in 72 hours. For free permanent hosting and GPU upgrades, run `gradio deploy` from the terminal in the working directory to deploy to Hugging Face Spaces (https://huggingface.co/spaces)\n"
     ]
    },
    {
     "data": {
      "text/html": [
       "<div><iframe src=\"https://72ad14a1afb77ead2c.gradio.live\" width=\"100%\" height=\"500\" allow=\"autoplay; camera; microphone; clipboard-read; clipboard-write;\" frameborder=\"0\" allowfullscreen></iframe></div>"
      ],
      "text/plain": [
       "<IPython.core.display.HTML object>"
      ]
     },
     "metadata": {},
     "output_type": "display_data"
    },
    {
     "data": {
      "text/plain": []
     },
     "execution_count": 12,
     "metadata": {},
     "output_type": "execute_result"
    }
   ],
   "source": [
    "gr_interface = gr.Interface(\n",
    "    fn=recommend_book,\n",
    "    inputs=[\n",
    "        gr.Textbox(label=\"Title\"),\n",
    "        gr.Textbox(label=\"Your Review\")\n",
    "    ],\n",
    "    outputs=gr.Textbox(label=\"Recommended Books\"),\n",
    "    description=instruction\n",
    ")\n",
    "gr_interface.launch(share=True)"
   ]
  }
 ],
 "metadata": {
  "kernelspec": {
   "display_name": "dev",
   "language": "python",
   "name": "python3"
  },
  "language_info": {
   "codemirror_mode": {
    "name": "ipython",
    "version": 3
   },
   "file_extension": ".py",
   "mimetype": "text/x-python",
   "name": "python",
   "nbconvert_exporter": "python",
   "pygments_lexer": "ipython3",
   "version": "3.10.13"
  }
 },
 "nbformat": 4,
 "nbformat_minor": 2
}
