{
 "cells": [
  {
   "cell_type": "code",
   "execution_count": 1,
   "metadata": {},
   "outputs": [],
   "source": [
    "import pandas as pd\n",
    "import re\n",
    "import nltk\n",
    "from nltk.corpus import stopwords\n",
    "from sklearn.feature_extraction.text import TfidfVectorizer\n",
    "from sklearn.metrics.pairwise import cosine_similarity\n",
    "from vaderSentiment.vaderSentiment import SentimentIntensityAnalyzer"
   ]
  },
  {
   "cell_type": "code",
   "execution_count": 2,
   "metadata": {},
   "outputs": [
    {
     "data": {
      "text/html": [
       "<div>\n",
       "<style scoped>\n",
       "    .dataframe tbody tr th:only-of-type {\n",
       "        vertical-align: middle;\n",
       "    }\n",
       "\n",
       "    .dataframe tbody tr th {\n",
       "        vertical-align: top;\n",
       "    }\n",
       "\n",
       "    .dataframe thead th {\n",
       "        text-align: right;\n",
       "    }\n",
       "</style>\n",
       "<table border=\"1\" class=\"dataframe\">\n",
       "  <thead>\n",
       "    <tr style=\"text-align: right;\">\n",
       "      <th></th>\n",
       "      <th>Id</th>\n",
       "      <th>Title</th>\n",
       "      <th>Price</th>\n",
       "      <th>User_id</th>\n",
       "      <th>profileName</th>\n",
       "      <th>review/helpfulness</th>\n",
       "      <th>review/score</th>\n",
       "      <th>review/time</th>\n",
       "      <th>review/summary</th>\n",
       "      <th>review/text</th>\n",
       "    </tr>\n",
       "  </thead>\n",
       "  <tbody>\n",
       "    <tr>\n",
       "      <th>0</th>\n",
       "      <td>0671551345</td>\n",
       "      <td>Night World: Daughters Of Darkness</td>\n",
       "      <td>NaN</td>\n",
       "      <td>ADB0JID2XRFYR</td>\n",
       "      <td>Harmony-Faith Charisma Izabela Jazmyn McDonague</td>\n",
       "      <td>1/3</td>\n",
       "      <td>5.0</td>\n",
       "      <td>1076457600</td>\n",
       "      <td>BEST BOOK EVER!!</td>\n",
       "      <td>This is 1 of da bst books dat i have EVER read...</td>\n",
       "    </tr>\n",
       "    <tr>\n",
       "      <th>1</th>\n",
       "      <td>0671551345</td>\n",
       "      <td>Night World: Daughters Of Darkness</td>\n",
       "      <td>NaN</td>\n",
       "      <td>NaN</td>\n",
       "      <td>NaN</td>\n",
       "      <td>1/3</td>\n",
       "      <td>5.0</td>\n",
       "      <td>1043971200</td>\n",
       "      <td>one of the best night world books!!!!</td>\n",
       "      <td>first of all i thought that this was one of lj...</td>\n",
       "    </tr>\n",
       "    <tr>\n",
       "      <th>2</th>\n",
       "      <td>0671551345</td>\n",
       "      <td>Night World: Daughters Of Darkness</td>\n",
       "      <td>NaN</td>\n",
       "      <td>NaN</td>\n",
       "      <td>NaN</td>\n",
       "      <td>1/3</td>\n",
       "      <td>3.0</td>\n",
       "      <td>960422400</td>\n",
       "      <td>three sisters to die for.......</td>\n",
       "      <td>Once started I couldn't put it down, literally...</td>\n",
       "    </tr>\n",
       "    <tr>\n",
       "      <th>3</th>\n",
       "      <td>0671551345</td>\n",
       "      <td>Night World: Daughters Of Darkness</td>\n",
       "      <td>NaN</td>\n",
       "      <td>A1V0SFB3AXM8JK</td>\n",
       "      <td>K. Davis \"The Rose Bride\"</td>\n",
       "      <td>0/2</td>\n",
       "      <td>1.0</td>\n",
       "      <td>1177718400</td>\n",
       "      <td>Disappointing to say the least</td>\n",
       "      <td>This book is probably, in my opinion, one of (...</td>\n",
       "    </tr>\n",
       "    <tr>\n",
       "      <th>4</th>\n",
       "      <td>0671551345</td>\n",
       "      <td>Night World: Daughters Of Darkness</td>\n",
       "      <td>NaN</td>\n",
       "      <td>NaN</td>\n",
       "      <td>NaN</td>\n",
       "      <td>0/0</td>\n",
       "      <td>5.0</td>\n",
       "      <td>889920000</td>\n",
       "      <td>The most charming, captivating work from LJ Sm...</td>\n",
       "      <td>The plot and characters are incredible. Everyo...</td>\n",
       "    </tr>\n",
       "  </tbody>\n",
       "</table>\n",
       "</div>"
      ],
      "text/plain": [
       "           Id                               Title  Price         User_id  \\\n",
       "0  0671551345  Night World: Daughters Of Darkness    NaN   ADB0JID2XRFYR   \n",
       "1  0671551345  Night World: Daughters Of Darkness    NaN             NaN   \n",
       "2  0671551345  Night World: Daughters Of Darkness    NaN             NaN   \n",
       "3  0671551345  Night World: Daughters Of Darkness    NaN  A1V0SFB3AXM8JK   \n",
       "4  0671551345  Night World: Daughters Of Darkness    NaN             NaN   \n",
       "\n",
       "                                       profileName review/helpfulness  \\\n",
       "0  Harmony-Faith Charisma Izabela Jazmyn McDonague                1/3   \n",
       "1                                              NaN                1/3   \n",
       "2                                              NaN                1/3   \n",
       "3                        K. Davis \"The Rose Bride\"                0/2   \n",
       "4                                              NaN                0/0   \n",
       "\n",
       "   review/score  review/time  \\\n",
       "0           5.0   1076457600   \n",
       "1           5.0   1043971200   \n",
       "2           3.0    960422400   \n",
       "3           1.0   1177718400   \n",
       "4           5.0    889920000   \n",
       "\n",
       "                                      review/summary  \\\n",
       "0                                   BEST BOOK EVER!!   \n",
       "1              one of the best night world books!!!!   \n",
       "2                    three sisters to die for.......   \n",
       "3                     Disappointing to say the least   \n",
       "4  The most charming, captivating work from LJ Sm...   \n",
       "\n",
       "                                         review/text  \n",
       "0  This is 1 of da bst books dat i have EVER read...  \n",
       "1  first of all i thought that this was one of lj...  \n",
       "2  Once started I couldn't put it down, literally...  \n",
       "3  This book is probably, in my opinion, one of (...  \n",
       "4  The plot and characters are incredible. Everyo...  "
      ]
     },
     "execution_count": 2,
     "metadata": {},
     "output_type": "execute_result"
    }
   ],
   "source": [
    "# Import book reviews dataset\n",
    "reviews = pd.read_csv('Resources/book_reviews.csv')\n",
    "reviews.head()"
   ]
  },
  {
   "cell_type": "code",
   "execution_count": 3,
   "metadata": {},
   "outputs": [
    {
     "data": {
      "text/html": [
       "<div>\n",
       "<style scoped>\n",
       "    .dataframe tbody tr th:only-of-type {\n",
       "        vertical-align: middle;\n",
       "    }\n",
       "\n",
       "    .dataframe tbody tr th {\n",
       "        vertical-align: top;\n",
       "    }\n",
       "\n",
       "    .dataframe thead th {\n",
       "        text-align: right;\n",
       "    }\n",
       "</style>\n",
       "<table border=\"1\" class=\"dataframe\">\n",
       "  <thead>\n",
       "    <tr style=\"text-align: right;\">\n",
       "      <th></th>\n",
       "      <th>Id</th>\n",
       "      <th>Title</th>\n",
       "      <th>review/score</th>\n",
       "      <th>review/text</th>\n",
       "    </tr>\n",
       "  </thead>\n",
       "  <tbody>\n",
       "    <tr>\n",
       "      <th>0</th>\n",
       "      <td>0671551345</td>\n",
       "      <td>Night World: Daughters Of Darkness</td>\n",
       "      <td>5.0</td>\n",
       "      <td>This is 1 of da bst books dat i have EVER read...</td>\n",
       "    </tr>\n",
       "    <tr>\n",
       "      <th>1</th>\n",
       "      <td>0671551345</td>\n",
       "      <td>Night World: Daughters Of Darkness</td>\n",
       "      <td>5.0</td>\n",
       "      <td>first of all i thought that this was one of lj...</td>\n",
       "    </tr>\n",
       "    <tr>\n",
       "      <th>2</th>\n",
       "      <td>0671551345</td>\n",
       "      <td>Night World: Daughters Of Darkness</td>\n",
       "      <td>3.0</td>\n",
       "      <td>Once started I couldn't put it down, literally...</td>\n",
       "    </tr>\n",
       "    <tr>\n",
       "      <th>3</th>\n",
       "      <td>0671551345</td>\n",
       "      <td>Night World: Daughters Of Darkness</td>\n",
       "      <td>1.0</td>\n",
       "      <td>This book is probably, in my opinion, one of (...</td>\n",
       "    </tr>\n",
       "    <tr>\n",
       "      <th>4</th>\n",
       "      <td>0671551345</td>\n",
       "      <td>Night World: Daughters Of Darkness</td>\n",
       "      <td>5.0</td>\n",
       "      <td>The plot and characters are incredible. Everyo...</td>\n",
       "    </tr>\n",
       "  </tbody>\n",
       "</table>\n",
       "</div>"
      ],
      "text/plain": [
       "           Id                               Title  review/score  \\\n",
       "0  0671551345  Night World: Daughters Of Darkness           5.0   \n",
       "1  0671551345  Night World: Daughters Of Darkness           5.0   \n",
       "2  0671551345  Night World: Daughters Of Darkness           3.0   \n",
       "3  0671551345  Night World: Daughters Of Darkness           1.0   \n",
       "4  0671551345  Night World: Daughters Of Darkness           5.0   \n",
       "\n",
       "                                         review/text  \n",
       "0  This is 1 of da bst books dat i have EVER read...  \n",
       "1  first of all i thought that this was one of lj...  \n",
       "2  Once started I couldn't put it down, literally...  \n",
       "3  This book is probably, in my opinion, one of (...  \n",
       "4  The plot and characters are incredible. Everyo...  "
      ]
     },
     "execution_count": 3,
     "metadata": {},
     "output_type": "execute_result"
    }
   ],
   "source": [
    "# Drop columns that will not be used\n",
    "reviews = reviews.drop(columns=['Price', 'User_id', 'profileName', 'review/helpfulness', 'review/time', 'review/summary'])\n",
    "reviews.head()"
   ]
  },
  {
   "cell_type": "code",
   "execution_count": 4,
   "metadata": {},
   "outputs": [
    {
     "name": "stderr",
     "output_type": "stream",
     "text": [
      "[nltk_data] Downloading package stopwords to /Users/syyun/nltk_data...\n",
      "[nltk_data]   Package stopwords is already up-to-date!\n"
     ]
    }
   ],
   "source": [
    "nltk.download('stopwords')\n",
    "stop_words = set(stopwords.words('english'))\n",
    "\n",
    "# Create a function to clean the long texts\n",
    "def clean_func(txt):\n",
    "    # Clean the texts by removing punctuations and changing to lowercase\n",
    "    txt = txt.lower()\n",
    "    txt = re.sub(r'[^a-z\\s]', '', txt)\n",
    "    # Tokenize the text and remove stopwords\n",
    "    txt_tokenized = txt.split()\n",
    "    txt_tokenized = [word for word in txt_tokenized if word not in stop_words]\n",
    "    result = ' '.join(txt_tokenized)\n",
    "    return result"
   ]
  },
  {
   "cell_type": "code",
   "execution_count": 5,
   "metadata": {},
   "outputs": [],
   "source": [
    "# Clean review/text columns with the function\n",
    "reviews['review/text'] = reviews['review/text'].apply(clean_func)"
   ]
  },
  {
   "cell_type": "code",
   "execution_count": 6,
   "metadata": {},
   "outputs": [],
   "source": [
    "# Get user's review\n",
    "user_review = 'I loved this book so much! I especially liked how the author set up the fantasy world. Everything was so magical and the imaginary world seemed very believable. All characters had great personality, even the side characters had their own story. I was moved by the friendships of the main characters that grew during their adventure.'"
   ]
  },
  {
   "cell_type": "code",
   "execution_count": 7,
   "metadata": {},
   "outputs": [
    {
     "name": "stdout",
     "output_type": "stream",
     "text": [
      "User review's sentiment score is : 0.9458\n"
     ]
    }
   ],
   "source": [
    "analyzer = SentimentIntensityAnalyzer()\n",
    "sentiment = analyzer.polarity_scores(user_review)['compound']\n",
    "print(f\"User review's sentiment score is : {sentiment}\")"
   ]
  },
  {
   "cell_type": "code",
   "execution_count": 8,
   "metadata": {},
   "outputs": [],
   "source": [
    "# Filter the reviews based on ratings according to user review's sentiment\n",
    "if sentiment >= 0:\n",
    "    reviews_filtered = reviews[reviews['review/score'] >= 4]\n",
    "else:\n",
    "    reviews_filtered = reviews[reviews['review/score'] < 4]"
   ]
  },
  {
   "cell_type": "code",
   "execution_count": 9,
   "metadata": {},
   "outputs": [],
   "source": [
    "vectorizer = TfidfVectorizer(stop_words=\"english\")\n",
    "# Vectorize filtered reviews\n",
    "tf_reviews = vectorizer.fit_transform(reviews_filtered['review/text'])\n",
    "# Vectorize user's review\n",
    "tf_user = vectorizer.transform([user_review])"
   ]
  },
  {
   "cell_type": "code",
   "execution_count": 10,
   "metadata": {},
   "outputs": [],
   "source": [
    "# Calculate the cosine similarity\n",
    "similarity = cosine_similarity(tf_user, tf_reviews)"
   ]
  },
  {
   "cell_type": "code",
   "execution_count": 11,
   "metadata": {},
   "outputs": [
    {
     "name": "stdout",
     "output_type": "stream",
     "text": [
      "Similar books recommended based on your review: \n",
      "\n",
      "<Night World: Daughters Of Darkness>\n",
      "<A Dance Through Time (Time Passages Romance)>\n",
      "<A People's History of the United States: 1492 to Present>\n",
      "<Red Is for Remembrance (Stolarz Series)>\n",
      "<The New Drawing on the Right Side of the Brain>\n"
     ]
    }
   ],
   "source": [
    "print(\"Similar books recommended based on your review: \\n\")\n",
    "top5_idx = similarity[0].argsort()[-5:][::-1]\n",
    "for idx in top5_idx:\n",
    "    book = reviews.iloc[idx]\n",
    "    sim_value = similarity[0][idx]\n",
    "    print(f\"<{book['Title']}>\")"
   ]
  }
 ],
 "metadata": {
  "kernelspec": {
   "display_name": "dev",
   "language": "python",
   "name": "python3"
  },
  "language_info": {
   "codemirror_mode": {
    "name": "ipython",
    "version": 3
   },
   "file_extension": ".py",
   "mimetype": "text/x-python",
   "name": "python",
   "nbconvert_exporter": "python",
   "pygments_lexer": "ipython3",
   "version": "3.10.13"
  }
 },
 "nbformat": 4,
 "nbformat_minor": 2
}
